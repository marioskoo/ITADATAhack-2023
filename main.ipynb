{
 "cells": [
  {
   "cell_type": "code",
   "execution_count": 11,
   "metadata": {},
   "outputs": [],
   "source": [
    "import pandas as pd\n",
    "import processing_text as pt\n",
    "import metrics as mx\n",
    "import dispersion\n",
    "\n",
    "from sklearn.model_selection import train_test_split\n",
    "from keras.models import Sequential\n",
    "from keras.layers import Embedding, LSTM, GRU, Dense, Dropout\n",
    "from keras.optimizers import Adam\n",
    "from keras.optimizers import RMSprop\n",
    "from keras.callbacks import EarlyStopping\n",
    "from imblearn.over_sampling import SMOTE"
   ]
  },
  {
   "cell_type": "code",
   "execution_count": 12,
   "metadata": {},
   "outputs": [],
   "source": [
    "# Upload of dataset\n",
    "X_train = pd.read_csv(\"haggingface/train.csv\")\n",
    "X_train = X_train.sample(n=1000, random_state=42)"
   ]
  },
  {
   "cell_type": "code",
   "execution_count": 13,
   "metadata": {},
   "outputs": [],
   "source": [
    "max_len_features = 1000\n",
    "\n",
    "# preprocessing of data using TF-IDF Vec\n",
    "X_train_padded, y_train_padded = pt.preprocess_text_tfidf(X_train, max_len_features)\n",
    "\n",
    "# preprocessing of data using word embedding\n",
    "# X_train_padded, y_train_padded, max_len_features = pt.preprocess_text_word_embedding(X_train)"
   ]
  },
  {
   "cell_type": "code",
   "execution_count": 14,
   "metadata": {},
   "outputs": [
    {
     "name": "stdout",
     "output_type": "stream",
     "text": [
      "[[0.         0.         0.         ... 0.         0.         0.        ]\n",
      " [0.01919813 0.03214995 0.         ... 0.         0.04473268 0.        ]\n",
      " [0.         0.         0.         ... 0.         0.         0.        ]\n",
      " ...\n",
      " [0.00908684 0.         0.         ... 0.05540774 0.01852622 0.        ]\n",
      " [0.         0.05616353 0.         ... 0.         0.         0.        ]\n",
      " [0.         0.         0.         ... 0.         0.         0.        ]]\n"
     ]
    }
   ],
   "source": [
    "print(X_train_padded)"
   ]
  },
  {
   "cell_type": "code",
   "execution_count": 15,
   "metadata": {},
   "outputs": [],
   "source": [
    "# Split of data\n",
    "X_train, X_test, y_train, y_test = train_test_split(X_train_padded, y_train_padded, test_size=0.2, random_state=42)"
   ]
  },
  {
   "cell_type": "code",
   "execution_count": 16,
   "metadata": {},
   "outputs": [
    {
     "name": "stdout",
     "output_type": "stream",
     "text": [
      "[120, 164, 550, 84, 151, 365, 78, 61, 40, 31, 31, 72, 4, 22, 244, 17, 468, 411, 125, 50]\n"
     ]
    },
    {
     "data": {
      "image/png": "[encoded data removed]",
      "text/plain": [
       "<Figure size 640x480 with 1 Axes>"
      ]
     },
     "metadata": {},
     "output_type": "display_data"
    }
   ],
   "source": [
    "# The Dataset has been rebalanced by oversampling the laws belonging\n",
    "# to underrepresented chapters, which is why there are duplicate CELEX_IDs.\n",
    "dispersion.view(y_train_padded, \"Class Distribution\")"
   ]
  },
  {
   "cell_type": "code",
   "execution_count": 19,
   "metadata": {},
   "outputs": [],
   "source": [
    "# Model creation\n",
    "model = Sequential()\n",
    "\n",
    "# LSMT\n",
    "# model.add(Embedding(input_dim=max_len_features, output_dim=500, input_length=X_train_resampled.shape[1]))\n",
    "# model.add(LSTM(32, dropout=0.5, recurrent_dropout=0.2, return_sequences=True))\n",
    "# model.add(LSTM(32, dropout=0.5, recurrent_dropout=0.2))\n",
    "# model.add(Dropout(0.5))\n",
    "# model.add(Dense(20, activation='sigmoid'))\n",
    "\n",
    "# GRU\n",
    "model.add(Embedding(input_dim=max_len_features, output_dim=500, input_length=X_train_resampled.shape[1]))\n",
    "model.add(GRU(64, dropout=0.4, recurrent_dropout=0.2, return_sequences=True))\n",
    "model.add(GRU(32, dropout=0.4, recurrent_dropout=0.2))\n",
    "model.add(Dropout(0.4))\n",
    "model.add(Dense(20, activation='sigmoid'))"
   ]
  },
  {
   "cell_type": "code",
   "execution_count": 20,
   "metadata": {},
   "outputs": [
    {
     "name": "stdout",
     "output_type": "stream",
     "text": [
      "Model: \"sequential_1\"\n",
      "_________________________________________________________________\n",
      " Layer (type)                Output Shape              Param #   \n",
      "=================================================================\n",
      " embedding_1 (Embedding)     (None, 1000, 500)         500000    \n",
      "                                                                 \n",
      " gru_2 (GRU)                 (None, 1000, 64)          108672    \n",
      "                                                                 \n",
      " gru_3 (GRU)                 (None, 32)                9408      \n",
      "                                                                 \n",
      " dropout_1 (Dropout)         (None, 32)                0         \n",
      "                                                                 \n",
      " dense_1 (Dense)             (None, 20)                660       \n",
      "                                                                 \n",
      "=================================================================\n",
      "Total params: 618740 (2.36 MB)\n",
      "Trainable params: 618740 (2.36 MB)\n",
      "Non-trainable params: 0 (0.00 Byte)\n",
      "_________________________________________________________________\n"
     ]
    }
   ],
   "source": [
    "model.summary()"
   ]
  },
  {
   "cell_type": "code",
   "execution_count": 21,
   "metadata": {},
   "outputs": [],
   "source": [
    "# Model compilation\n",
    "# model.compile(loss='binary_crossentropy', optimizer='adam',\n",
    "#               metrics=['accuracy', mx.f1_m, mx.precision_m, mx.recall_m])\n",
    "\n",
    "model.compile(loss='categorical_crossentropy', optimizer='rmsprop',\n",
    "              metrics=['accuracy', mx.f1_m, mx.precision_m, mx.recall_m])"
   ]
  },
  {
   "cell_type": "code",
   "execution_count": 22,
   "metadata": {},
   "outputs": [
    {
     "name": "stdout",
     "output_type": "stream",
     "text": [
      "Epoch 1/5\n",
      "25/25 [==============================] - 43s 2s/step - loss: 70.2495 - accuracy: 0.4175 - f1_m: 0.4290 - precision_m: 0.2735 - recall_m: 0.9983 - val_loss: 54.2058 - val_accuracy: 0.4700 - val_f1_m: 0.4529 - val_precision_m: 0.2929 - val_recall_m: 1.0000\n",
      "Epoch 2/5\n",
      "25/25 [==============================] - 41s 2s/step - loss: 66.8465 - accuracy: 0.4375 - f1_m: 0.4833 - precision_m: 0.3193 - recall_m: 1.0000 - val_loss: 52.7401 - val_accuracy: 0.4700 - val_f1_m: 0.5358 - val_precision_m: 0.3661 - val_recall_m: 1.0000\n",
      "Epoch 3/5\n",
      "25/25 [==============================] - 41s 2s/step - loss: 65.5018 - accuracy: 0.4275 - f1_m: 0.5290 - precision_m: 0.3602 - recall_m: 1.0000 - val_loss: 52.7446 - val_accuracy: 0.4700 - val_f1_m: 0.5358 - val_precision_m: 0.3661 - val_recall_m: 1.0000\n",
      "Epoch 4/5\n",
      "25/25 [==============================] - 40s 2s/step - loss: 63.7198 - accuracy: 0.4250 - f1_m: 0.5723 - precision_m: 0.4013 - recall_m: 1.0000 - val_loss: 52.9564 - val_accuracy: 0.4700 - val_f1_m: 0.6558 - val_precision_m: 0.4881 - val_recall_m: 1.0000\n",
      "Epoch 5/5\n",
      "25/25 [==============================] - 42s 2s/step - loss: 64.7432 - accuracy: 0.4300 - f1_m: 0.6045 - precision_m: 0.4336 - recall_m: 1.0000 - val_loss: 53.2197 - val_accuracy: 0.4700 - val_f1_m: 0.6558 - val_precision_m: 0.4881 - val_recall_m: 1.0000\n"
     ]
    }
   ],
   "source": [
    "# Model training\n",
    "history = model.fit(X_train, y_train, validation_data=(X_test, y_test), epochs=5)"
   ]
  },
  {
   "cell_type": "code",
   "execution_count": 23,
   "metadata": {},
   "outputs": [
    {
     "name": "stdout",
     "output_type": "stream",
     "text": [
      "7/7 [==============================] - 2s 221ms/step - loss: 53.2197 - accuracy: 0.4700 - f1_m: 0.6558 - precision_m: 0.4881 - recall_m: 1.0000\n",
      "Loss: 53.21967697143555\n",
      "Accuracy: 0.4699999988079071\n",
      "F1 Score: 0.6558021306991577\n",
      "Precision: 0.488095223903656\n",
      "Recall: 1.0\n"
     ]
    }
   ],
   "source": [
    "# Model evaluation\n",
    "loss, accuracy, f1_score, precision, recall = model.evaluate(X_test, y_test)\n",
    "print(\"Loss:\", loss)\n",
    "print(\"Accuracy:\", accuracy)\n",
    "print(\"F1 Score:\", f1_score)\n",
    "print(\"Precision:\", precision)\n",
    "print(\"Recall:\", recall)"
   ]
  }
 ],
 "metadata": {
  "kernelspec": {
   "display_name": "Python 3",
   "language": "python",
   "name": "python3"
  },
  "language_info": {
   "codemirror_mode": {
    "name": "ipython",
    "version": 3
   },
   "file_extension": ".py",
   "mimetype": "text/x-python",
   "name": "python",
   "nbconvert_exporter": "python",
   "pygments_lexer": "ipython3",
   "version": "3.10.12"
  },
  "orig_nbformat": 4
 },
 "nbformat": 4,
 "nbformat_minor": 2
}
